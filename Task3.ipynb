{
 "cells": [
  {
   "cell_type": "code",
   "execution_count": 30,
   "id": "7fcad77d-76ee-49cc-8e82-3b299083d5a7",
   "metadata": {},
   "outputs": [],
   "source": [
    "class Stack:\n",
    "    def __init__(self):\n",
    "        self.a = []\n",
    "    def push(self, value):\n",
    "        print(\"inside function\")\n",
    "        print(\"value = \", value)\n",
    "        print(\"value = \", type(value))\n",
    "        if type(value) is int:\n",
    "            print(\"condition Passed\")\n",
    "            self.a.append(value)\n",
    "        else:\n",
    "            print(\"Condition Failed\")\n",
    "    def pop(self):\n",
    "        if not self.a:\n",
    "            return \"Stack is empty. \"\n",
    "        else:\n",
    "            self.a.pop()   \n",
    "    def list_show(self):\n",
    "        return self.a[::-1]"
   ]
  },
  {
   "cell_type": "code",
   "execution_count": 31,
   "id": "6c1483b9-8b87-4162-b87c-2104046974e2",
   "metadata": {},
   "outputs": [
    {
     "name": "stdin",
     "output_type": "stream",
     "text": [
      "Enter any number:  4\n"
     ]
    },
    {
     "name": "stdout",
     "output_type": "stream",
     "text": [
      "inside function\n",
      "value =  4\n",
      "value =  <class 'int'>\n",
      "condition Passed\n",
      "[4]\n"
     ]
    }
   ],
   "source": [
    "value = int(input(\"Enter any number: \"))\n",
    "d = Stack()\n",
    "e = d.push(value)\n",
    "print(d.a)"
   ]
  },
  {
   "cell_type": "code",
   "execution_count": null,
   "id": "ad6061f4-ac7c-4c65-a740-eaa0d427a985",
   "metadata": {},
   "outputs": [],
   "source": []
  }
 ],
 "metadata": {
  "kernelspec": {
   "display_name": "Python 3 (ipykernel)",
   "language": "python",
   "name": "python3"
  },
  "language_info": {
   "codemirror_mode": {
    "name": "ipython",
    "version": 3
   },
   "file_extension": ".py",
   "mimetype": "text/x-python",
   "name": "python",
   "nbconvert_exporter": "python",
   "pygments_lexer": "ipython3",
   "version": "3.10.12"
  }
 },
 "nbformat": 4,
 "nbformat_minor": 5
}
