{
 "cells": [
  {
   "cell_type": "code",
   "execution_count": 2,
   "id": "2289e13e-a01d-4f69-9af4-251edb246977",
   "metadata": {},
   "outputs": [],
   "source": [
    "class Calculator:\n",
    "    def __init__(self, a, b):\n",
    "        self.a = a\n",
    "        self.b = b\n",
    "    def Addition(self):\n",
    "        return self.a + self.b\n",
    "    def Substraction(self):\n",
    "        return self.a - self.b\n",
    "    def Multiplication(self):\n",
    "        return self.a * self.b\n",
    "    def Division(self):\n",
    "        return self.a / self.b\n",
    "    def Modulus(self):\n",
    "        self.a % self.b"
   ]
  },
  {
   "cell_type": "code",
   "execution_count": 5,
   "id": "3c0d933e-73c7-47bc-852d-d6153ae75a4d",
   "metadata": {},
   "outputs": [
    {
     "name": "stdin",
     "output_type": "stream",
     "text": [
      "Enter first number:  34\n",
      "Enter Second number:  56\n",
      "Which calculation would you like to perform: +, -, * , /, % :  +\n"
     ]
    },
    {
     "name": "stdout",
     "output_type": "stream",
     "text": [
      "The sum of 34 and 56 is : 90\n"
     ]
    }
   ],
   "source": [
    "a = int(input(\"Enter first number: \"))\n",
    "b = int(input(\"Enter Second number: \"))\n",
    "calc = input(\"Which calculation would you like to perform: +, -, * , /, % : \")\n",
    "c = Calculator(a,b)\n",
    "if calc == \"+\":\n",
    "    d = c.Addition()\n",
    "    print(f\"The sum of {a} and {b} is : {d}\")\n",
    "elif calc == \"-\":\n",
    "    e = c.Substraction()\n",
    "    print(f\"The subtraction of {a} and {b} is : {e}\")\n",
    "elif calc == \"*\":\n",
    "    f = c.Multiplication()\n",
    "    print(f\"The multiplication of {a} and {b} is : {f}\")\n",
    "elif calc == \"/\":\n",
    "    g = c.Division()\n",
    "    print(f\"The division of {a} and {b} is : {g}\")\n",
    "elif calc == \"%\":\n",
    "    h = c.Modulus()\n",
    "    print(f\"The modulus of {a} and {b} is : {h}\")\n",
    "else:\n",
    "    print(\"Please enter a valid arithmetic operator. \")"
   ]
  },
  {
   "cell_type": "code",
   "execution_count": null,
   "id": "2fabbe8f-e966-4279-8b9f-6bd9ec9750e8",
   "metadata": {},
   "outputs": [],
   "source": []
  }
 ],
 "metadata": {
  "kernelspec": {
   "display_name": "Python 3 (ipykernel)",
   "language": "python",
   "name": "python3"
  },
  "language_info": {
   "codemirror_mode": {
    "name": "ipython",
    "version": 3
   },
   "file_extension": ".py",
   "mimetype": "text/x-python",
   "name": "python",
   "nbconvert_exporter": "python",
   "pygments_lexer": "ipython3",
   "version": "3.10.12"
  }
 },
 "nbformat": 4,
 "nbformat_minor": 5
}
