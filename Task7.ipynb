{
 "cells": [
  {
   "cell_type": "code",
   "execution_count": 1,
   "id": "d537e370-c970-44bb-a9f7-7ae95c251099",
   "metadata": {},
   "outputs": [],
   "source": [
    "class Bank:\n",
    "    def __init__(self):\n",
    "        self.accounts = {}  # Store accounts as {account_number: {\"name\": str, \"balance\": float}}\n",
    "\n",
    "    def create_account(self, account_number, customer_name, initial_deposit):\n",
    "        if account_number in self.accounts:\n",
    "            print(\"Account already exists.\")\n",
    "        else:\n",
    "            self.accounts[account_number] = {\n",
    "                \"name\": customer_name,\n",
    "                \"balance\": initial_deposit\n",
    "            }\n",
    "            print(f\"Account created for {customer_name} with initial deposit of ${initial_deposit:.2f}\")\n",
    "\n",
    "    def deposit(self, account_number, amount):\n",
    "        if account_number in self.accounts:\n",
    "            self.accounts[account_number][\"balance\"] += amount\n",
    "            print(f\"Deposited ${amount:.2f} into account {account_number}\")\n",
    "        else:\n",
    "            print(\"Account not found.\")\n",
    "\n",
    "    def withdraw(self, account_number, amount):\n",
    "        if account_number in self.accounts:\n",
    "            if self.accounts[account_number][\"balance\"] >= amount:\n",
    "                self.accounts[account_number][\"balance\"] -= amount\n",
    "                print(f\"Withdrew ${amount:.2f} from account {account_number}\")\n",
    "            else:\n",
    "                print(\"Insufficient funds.\")\n",
    "        else:\n",
    "            print(\"Account not found.\")\n",
    "\n",
    "    def check_balance(self, account_number):\n",
    "        if account_number in self.accounts:\n",
    "            balance = self.accounts[account_number][\"balance\"]\n",
    "            print(f\"Account {account_number} balance: ${balance:.2f}\")\n",
    "            return balance\n",
    "        else:\n",
    "            print(\"Account not found.\")\n",
    "            return None\n",
    "\n",
    "    def display_all_accounts(self):\n",
    "        if not self.accounts:\n",
    "            print(\"No accounts found.\")\n",
    "        else:\n",
    "            print(\"All Bank Accounts:\")\n",
    "            for acc_no, info in self.accounts.items():\n",
    "                print(f\"Account {acc_no}: {info['name']} - Balance: ${info['balance']:.2f}\")"
   ]
  },
  {
   "cell_type": "code",
   "execution_count": 2,
   "id": "2c52f625-2f9f-47c7-8d1b-c02a2ed11b57",
   "metadata": {},
   "outputs": [
    {
     "name": "stdout",
     "output_type": "stream",
     "text": [
      "Account created for Alice with initial deposit of $500.00\n"
     ]
    }
   ],
   "source": [
    "bank = Bank()\n",
    "bank.create_account(\"1001\", \"Alice\", 500)"
   ]
  },
  {
   "cell_type": "code",
   "execution_count": 3,
   "id": "3f665dea-c18e-4427-ba9a-2c780acafa71",
   "metadata": {},
   "outputs": [
    {
     "name": "stdout",
     "output_type": "stream",
     "text": [
      "Account created for Bob with initial deposit of $300.00\n"
     ]
    }
   ],
   "source": [
    "bank.create_account(\"1002\", \"Bob\", 300)"
   ]
  },
  {
   "cell_type": "code",
   "execution_count": 4,
   "id": "7770b052-ff36-42a6-be40-b00f4d8a8582",
   "metadata": {},
   "outputs": [
    {
     "name": "stdout",
     "output_type": "stream",
     "text": [
      "Deposited $150.00 into account 1001\n"
     ]
    }
   ],
   "source": [
    "bank.deposit(\"1001\", 150)"
   ]
  },
  {
   "cell_type": "code",
   "execution_count": 5,
   "id": "c490f3c7-3693-4da1-9d32-19f3924ba8d5",
   "metadata": {},
   "outputs": [
    {
     "name": "stdout",
     "output_type": "stream",
     "text": [
      "Withdrew $100.00 from account 1002\n"
     ]
    }
   ],
   "source": [
    "bank.withdraw(\"1002\", 100)"
   ]
  },
  {
   "cell_type": "code",
   "execution_count": 6,
   "id": "cd9e45cb-1373-4d92-b4f7-6621f19e03bc",
   "metadata": {},
   "outputs": [
    {
     "name": "stdout",
     "output_type": "stream",
     "text": [
      "Account 1001 balance: $650.00\n"
     ]
    },
    {
     "data": {
      "text/plain": [
       "650"
      ]
     },
     "execution_count": 6,
     "metadata": {},
     "output_type": "execute_result"
    }
   ],
   "source": [
    "bank.check_balance(\"1001\")"
   ]
  },
  {
   "cell_type": "code",
   "execution_count": 7,
   "id": "508a0e9d-2e48-473c-a09f-567ef35c28ea",
   "metadata": {},
   "outputs": [
    {
     "name": "stdout",
     "output_type": "stream",
     "text": [
      "All Bank Accounts:\n",
      "Account 1001: Alice - Balance: $650.00\n",
      "Account 1002: Bob - Balance: $200.00\n"
     ]
    }
   ],
   "source": [
    "bank.display_all_accounts()"
   ]
  },
  {
   "cell_type": "code",
   "execution_count": null,
   "id": "640f7df4-e383-4708-a22e-268277ae6a6c",
   "metadata": {},
   "outputs": [],
   "source": []
  }
 ],
 "metadata": {
  "kernelspec": {
   "display_name": "Python 3 (ipykernel)",
   "language": "python",
   "name": "python3"
  },
  "language_info": {
   "codemirror_mode": {
    "name": "ipython",
    "version": 3
   },
   "file_extension": ".py",
   "mimetype": "text/x-python",
   "name": "python",
   "nbconvert_exporter": "python",
   "pygments_lexer": "ipython3",
   "version": "3.10.12"
  }
 },
 "nbformat": 4,
 "nbformat_minor": 5
}
