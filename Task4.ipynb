{
 "cells": [
  {
   "cell_type": "code",
   "execution_count": null,
   "id": "3c0b0676-cc34-4f29-93ed-f14265119f72",
   "metadata": {},
   "outputs": [],
   "source": [
    "class Node:\n",
    "    def __init__(self , value):\n",
    "        self.value = value\n",
    "        self.next = None\n",
    "class Linked_list:\n",
    "    def __init__(self):\n",
    "        set self.head = None\n",
    "    def insert_at_end(self, data):\n",
    "        new_node = Node(data)\n",
    "        \n",
    "    "
   ]
  }
 ],
 "metadata": {
  "kernelspec": {
   "display_name": "Python 3 (ipykernel)",
   "language": "python",
   "name": "python3"
  },
  "language_info": {
   "codemirror_mode": {
    "name": "ipython",
    "version": 3
   },
   "file_extension": ".py",
   "mimetype": "text/x-python",
   "name": "python",
   "nbconvert_exporter": "python",
   "pygments_lexer": "ipython3",
   "version": "3.10.12"
  }
 },
 "nbformat": 4,
 "nbformat_minor": 5
}
