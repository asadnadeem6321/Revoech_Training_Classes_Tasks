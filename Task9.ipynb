{
 "cells": [
  {
   "cell_type": "code",
   "execution_count": 1,
   "id": "d9e69a72-c664-48dd-83c1-35d5ad02fb87",
   "metadata": {},
   "outputs": [],
   "source": [
    "class Account:\n",
    "    def __init__(self, initial_balance=0):\n",
    "        self.__balance = initial_balance \n",
    "\n",
    "    def deposit(self, amount):\n",
    "        if amount > 0:\n",
    "            self.__balance += amount\n",
    "            print(f\"Deposited: ${amount}\")\n",
    "        else:\n",
    "            print(\"Deposit amount must be positive.\")\n",
    "\n",
    "    def withdraw(self, amount):\n",
    "        if amount <= 0:\n",
    "            print(\"Withdrawal amount must be positive.\")\n",
    "        elif amount > self.__balance:\n",
    "            print(\"Insufficient funds. Withdrawal failed.\")\n",
    "        else:\n",
    "            self.__balance -= amount\n",
    "            print(f\"Withdrew: ${amount}\")\n",
    "\n",
    "    def get_balance(self):\n",
    "        return self.__balance"
   ]
  },
  {
   "cell_type": "code",
   "execution_count": 2,
   "id": "27259e23-6145-415d-ba0a-2786a0b996a2",
   "metadata": {},
   "outputs": [],
   "source": [
    "account = Account(100)  "
   ]
  },
  {
   "cell_type": "code",
   "execution_count": 3,
   "id": "e892b07e-7769-4073-b0ce-4402a0e52947",
   "metadata": {},
   "outputs": [
    {
     "name": "stdout",
     "output_type": "stream",
     "text": [
      "Deposited: $50\n"
     ]
    }
   ],
   "source": [
    "account.deposit(50)    "
   ]
  },
  {
   "cell_type": "code",
   "execution_count": 4,
   "id": "babd9941-5845-4734-a965-20e7bb5e39fd",
   "metadata": {},
   "outputs": [
    {
     "name": "stdout",
     "output_type": "stream",
     "text": [
      "Withdrew: $30\n"
     ]
    }
   ],
   "source": [
    "account.withdraw(30)   "
   ]
  },
  {
   "cell_type": "code",
   "execution_count": 5,
   "id": "214dc36a-e6b2-4844-b4fd-d78f231a4f61",
   "metadata": {},
   "outputs": [
    {
     "name": "stdout",
     "output_type": "stream",
     "text": [
      "Insufficient funds. Withdrawal failed.\n"
     ]
    }
   ],
   "source": [
    "account.withdraw(150)   "
   ]
  },
  {
   "cell_type": "code",
   "execution_count": 6,
   "id": "3db94eb0-0aff-45bf-8be2-0bc9ea406476",
   "metadata": {},
   "outputs": [
    {
     "name": "stdout",
     "output_type": "stream",
     "text": [
      "Current Balance: 120\n"
     ]
    }
   ],
   "source": [
    "print(\"Current Balance:\", account.get_balance())  "
   ]
  },
  {
   "cell_type": "code",
   "execution_count": null,
   "id": "72468014-143a-49b7-b597-02e71db2895e",
   "metadata": {},
   "outputs": [],
   "source": []
  }
 ],
 "metadata": {
  "kernelspec": {
   "display_name": "Python 3 (ipykernel)",
   "language": "python",
   "name": "python3"
  },
  "language_info": {
   "codemirror_mode": {
    "name": "ipython",
    "version": 3
   },
   "file_extension": ".py",
   "mimetype": "text/x-python",
   "name": "python",
   "nbconvert_exporter": "python",
   "pygments_lexer": "ipython3",
   "version": "3.10.12"
  }
 },
 "nbformat": 4,
 "nbformat_minor": 5
}
