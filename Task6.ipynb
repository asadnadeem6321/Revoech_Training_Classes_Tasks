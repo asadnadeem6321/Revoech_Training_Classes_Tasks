{
 "cells": [
  {
   "cell_type": "code",
   "execution_count": 1,
   "id": "753323b8-9f6b-40e4-9824-b31b3c40c775",
   "metadata": {},
   "outputs": [],
   "source": [
    "class Queue:\n",
    "    def __init__(self):\n",
    "        self.items = []  \n",
    "\n",
    "    def enqueue(self, item):\n",
    "        self.items.append(item)  \n",
    "        print(f\"Enqueued: {item}\")\n",
    "\n",
    "    def dequeue(self):\n",
    "        if not self.is_empty():\n",
    "            removed_item = self.items.pop(0)  \n",
    "            print(f\"Dequeued: {removed_item}\")\n",
    "            return removed_item\n",
    "        else:\n",
    "            print(\"Queue is empty. Cannot dequeue.\")\n",
    "            return None\n",
    "\n",
    "    def is_empty(self):\n",
    "        return len(self.items) == 0\n",
    "\n",
    "    def display(self):\n",
    "        if self.is_empty():\n",
    "            print(\"Queue is empty.\")\n",
    "        else:\n",
    "            print(\"Queue contents:\", self.items)"
   ]
  },
  {
   "cell_type": "code",
   "execution_count": 3,
   "id": "5576735b-7d52-481c-b548-8739899ddfc6",
   "metadata": {},
   "outputs": [
    {
     "name": "stdout",
     "output_type": "stream",
     "text": [
      "Enqueued: 10\n"
     ]
    }
   ],
   "source": [
    "queue = Queue()\n",
    "queue.enqueue(10)"
   ]
  },
  {
   "cell_type": "code",
   "execution_count": 4,
   "id": "4ed55d72-7f73-4b4f-86c8-57a1185d729b",
   "metadata": {},
   "outputs": [
    {
     "name": "stdout",
     "output_type": "stream",
     "text": [
      "Enqueued: 20\n"
     ]
    }
   ],
   "source": [
    "queue.enqueue(20)"
   ]
  },
  {
   "cell_type": "code",
   "execution_count": 5,
   "id": "e1443cfc-a101-4487-95e7-5f97a7aa93c7",
   "metadata": {},
   "outputs": [
    {
     "name": "stdout",
     "output_type": "stream",
     "text": [
      "Enqueued: 30\n"
     ]
    }
   ],
   "source": [
    "queue.enqueue(30)"
   ]
  },
  {
   "cell_type": "code",
   "execution_count": 6,
   "id": "d0ee2a8a-c576-4f6e-9d61-a37c251b9ab2",
   "metadata": {},
   "outputs": [
    {
     "name": "stdout",
     "output_type": "stream",
     "text": [
      "Queue contents: [10, 20, 30]\n"
     ]
    }
   ],
   "source": [
    "queue.display()"
   ]
  },
  {
   "cell_type": "code",
   "execution_count": 7,
   "id": "1aba5e48-db75-46bd-bbb5-146e9f25a1ea",
   "metadata": {},
   "outputs": [
    {
     "name": "stdout",
     "output_type": "stream",
     "text": [
      "Dequeued: 10\n"
     ]
    },
    {
     "data": {
      "text/plain": [
       "10"
      ]
     },
     "execution_count": 7,
     "metadata": {},
     "output_type": "execute_result"
    }
   ],
   "source": [
    "queue.dequeue()"
   ]
  },
  {
   "cell_type": "code",
   "execution_count": 8,
   "id": "26401ee2-1f56-4c41-9386-2353da5b92e4",
   "metadata": {},
   "outputs": [
    {
     "name": "stdout",
     "output_type": "stream",
     "text": [
      "Queue contents: [20, 30]\n"
     ]
    }
   ],
   "source": [
    "queue.display()"
   ]
  },
  {
   "cell_type": "code",
   "execution_count": null,
   "id": "7bd0792b-ca75-47a3-80fb-a522c7ee6390",
   "metadata": {},
   "outputs": [],
   "source": []
  }
 ],
 "metadata": {
  "kernelspec": {
   "display_name": "Python 3 (ipykernel)",
   "language": "python",
   "name": "python3"
  },
  "language_info": {
   "codemirror_mode": {
    "name": "ipython",
    "version": 3
   },
   "file_extension": ".py",
   "mimetype": "text/x-python",
   "name": "python",
   "nbconvert_exporter": "python",
   "pygments_lexer": "ipython3",
   "version": "3.10.12"
  }
 },
 "nbformat": 4,
 "nbformat_minor": 5
}
