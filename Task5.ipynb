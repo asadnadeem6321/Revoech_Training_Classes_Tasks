{
 "cells": [
  {
   "cell_type": "code",
   "execution_count": 1,
   "id": "6f547081-f0f7-47bb-a047-9a5fc6e2f53d",
   "metadata": {},
   "outputs": [],
   "source": [
    "class ShoppingCart:\n",
    "    def __init__(self):\n",
    "        self.items = {}  \n",
    "\n",
    "    def add_item(self, item_name, price, quantity):\n",
    "        if item_name in self.items:\n",
    "            current_price, current_quantity = self.items[item_name]\n",
    "            self.items[item_name] = (price, current_quantity + quantity)\n",
    "        else:\n",
    "            self.items[item_name] = (price, quantity)\n",
    "        print(f\"Added {quantity} x {item_name} to the cart.\")\n",
    "\n",
    "    def remove_item(self, item_name):\n",
    "        if item_name in self.items:\n",
    "            del self.items[item_name]\n",
    "            print(f\"Removed {item_name} from the cart.\")\n",
    "        else:\n",
    "            print(\"Item not found in the cart.\")\n",
    "\n",
    "    def calculate_total(self):\n",
    "        total = 0\n",
    "        for item_name, (price, quantity) in self.items.items():\n",
    "            total += price * quantity\n",
    "        return total\n",
    "\n",
    "    def display_cart(self):\n",
    "        if not self.items:\n",
    "            print(\"Cart is empty.\")\n",
    "        else:\n",
    "            print(\"Shopping Cart:\")\n",
    "            for item_name, (price, quantity) in self.items.items():\n",
    "                print(f\"- {item_name}: {quantity} x ${price:.2f} = ${price * quantity:.2f}\")\n",
    "            print(f\"Total Price: ${self.calculate_total():.2f}\")"
   ]
  },
  {
   "cell_type": "code",
   "execution_count": 3,
   "id": "440fb4d0-07e5-4d8b-bffa-138f28ac8445",
   "metadata": {},
   "outputs": [
    {
     "name": "stdout",
     "output_type": "stream",
     "text": [
      "Added 4 x Apple to the cart.\n",
      "Added 6 x Banana to the cart.\n"
     ]
    }
   ],
   "source": [
    "cart = ShoppingCart()\n",
    "cart.add_item(\"Apple\", 0.5, 4)\n",
    "cart.add_item(\"Banana\", 0.3, 6)"
   ]
  },
  {
   "cell_type": "code",
   "execution_count": 4,
   "id": "94bb1fed-7620-49c9-aa84-a154bac26a4a",
   "metadata": {},
   "outputs": [
    {
     "name": "stdout",
     "output_type": "stream",
     "text": [
      "Shopping Cart:\n",
      "- Apple: 4 x $0.50 = $2.00\n",
      "- Banana: 6 x $0.30 = $1.80\n",
      "Total Price: $3.80\n"
     ]
    }
   ],
   "source": [
    "cart.display_cart()"
   ]
  },
  {
   "cell_type": "code",
   "execution_count": 5,
   "id": "b83a3419-cdd3-428e-8d0d-a74e884f5f5b",
   "metadata": {},
   "outputs": [
    {
     "name": "stdout",
     "output_type": "stream",
     "text": [
      "Removed Apple from the cart.\n"
     ]
    }
   ],
   "source": [
    "cart.remove_item(\"Apple\")"
   ]
  },
  {
   "cell_type": "code",
   "execution_count": 6,
   "id": "b68aec4d-49f6-4d6a-989b-9cafb3553c6f",
   "metadata": {},
   "outputs": [
    {
     "name": "stdout",
     "output_type": "stream",
     "text": [
      "Shopping Cart:\n",
      "- Banana: 6 x $0.30 = $1.80\n",
      "Total Price: $1.80\n"
     ]
    }
   ],
   "source": [
    "cart.display_cart()"
   ]
  },
  {
   "cell_type": "code",
   "execution_count": null,
   "id": "c00ed31c-4a7e-4ad6-9315-09b1727477da",
   "metadata": {},
   "outputs": [],
   "source": []
  }
 ],
 "metadata": {
  "kernelspec": {
   "display_name": "Python 3 (ipykernel)",
   "language": "python",
   "name": "python3"
  },
  "language_info": {
   "codemirror_mode": {
    "name": "ipython",
    "version": 3
   },
   "file_extension": ".py",
   "mimetype": "text/x-python",
   "name": "python",
   "nbconvert_exporter": "python",
   "pygments_lexer": "ipython3",
   "version": "3.10.12"
  }
 },
 "nbformat": 4,
 "nbformat_minor": 5
}
