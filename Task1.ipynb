{
 "cells": [
  {
   "cell_type": "code",
   "execution_count": 8,
   "id": "a891afd8-23ef-4844-ad1e-79f98ef82dda",
   "metadata": {},
   "outputs": [],
   "source": [
    "class Circle:\n",
    "    def __init__(self, radius):\n",
    "        self.radius = radius\n",
    "    def calculate_area(self):\n",
    "        area = 3.14*self.radius*self.radius\n",
    "        return area\n",
    "    def calculate_perimeter(self):\n",
    "        perimeter = 2*3.14*self.radius\n",
    "        return perimeter"
   ]
  },
  {
   "cell_type": "code",
   "execution_count": 9,
   "id": "736fb373-08f1-4908-9cee-fb7ce40f5e15",
   "metadata": {},
   "outputs": [
    {
     "name": "stdin",
     "output_type": "stream",
     "text": [
      "Enter radius:  3\n"
     ]
    },
    {
     "name": "stdout",
     "output_type": "stream",
     "text": [
      "Your area is: 28.259999999999998 \n",
      "Your perimeter is: 18.84 \n"
     ]
    }
   ],
   "source": [
    "a = input(\"Enter radius: \")\n",
    "a = float(a)\n",
    "b = Circle(a)\n",
    "c = b.calculate_area()\n",
    "d = b.calculate_perimeter()\n",
    "print (f\"Your area is: {c} \")\n",
    "print(f\"Your perimeter is: {d} \")"
   ]
  },
  {
   "cell_type": "code",
   "execution_count": null,
   "id": "e55c72c4-2171-47b2-926d-7c0090b7535c",
   "metadata": {},
   "outputs": [],
   "source": []
  }
 ],
 "metadata": {
  "kernelspec": {
   "display_name": "Python 3 (ipykernel)",
   "language": "python",
   "name": "python3"
  },
  "language_info": {
   "codemirror_mode": {
    "name": "ipython",
    "version": 3
   },
   "file_extension": ".py",
   "mimetype": "text/x-python",
   "name": "python",
   "nbconvert_exporter": "python",
   "pygments_lexer": "ipython3",
   "version": "3.10.12"
  }
 },
 "nbformat": 4,
 "nbformat_minor": 5
}
